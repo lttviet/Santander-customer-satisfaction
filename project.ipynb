{
 "cells": [
  {
   "cell_type": "code",
   "execution_count": 1,
   "metadata": {
    "collapsed": false,
    "scrolled": true
   },
   "outputs": [
    {
     "name": "stderr",
     "output_type": "stream",
     "text": [
      "/home/lttviet/scikit-learn/sklearn/cross_validation.py:43: DeprecationWarning: This module has been deprecated in favor of the model_selection module into which all the refactored classes and functions are moved. Also note that the interface of the new CV iterators are different from that of this module. This module will be removed in 0.20.\n",
      "  \"This module will be removed in 0.20.\", DeprecationWarning)\n",
      "/home/lttviet/scikit-learn/sklearn/grid_search.py:43: DeprecationWarning: This module has been deprecated in favor of the model_selection module into which all the refactored classes and functions are moved. This module will be removed in 0.20.\n",
      "  DeprecationWarning)\n"
     ]
    }
   ],
   "source": [
    "import pickle\n",
    "import numpy as np\n",
    "import pandas as pd\n",
    "from sklearn.linear_model import LassoLarsCV, LogisticRegressionCV\n",
    "from sklearn.ensemble import RandomForestClassifier\n",
    "from sklearn.pipeline import Pipeline\n",
    "from sklearn.preprocessing import StandardScaler\n",
    "from sklearn.metrics import roc_auc_score\n",
    "from sklearn.cross_validation import cross_val_score, train_test_split\n",
    "from sklearn.grid_search import GridSearchCV\n",
    "from sklearn.feature_selection import SelectFromModel\n",
    "from scipy.stats import gmean\n",
    "import xgboost as xgb\n",
    "from xgboost.sklearn import XGBClassifier\n",
    "from xgboost import DMatrix"
   ]
  },
  {
   "cell_type": "code",
   "execution_count": 2,
   "metadata": {
    "collapsed": false
   },
   "outputs": [],
   "source": [
    "import matplotlib.pyplot as plt\n",
    "\n",
    "%matplotlib inline\n",
    "from matplotlib.pylab import rcParams\n",
    "rcParams['figure.figsize'] = 30, 8"
   ]
  },
  {
   "cell_type": "code",
   "execution_count": 3,
   "metadata": {
    "collapsed": false
   },
   "outputs": [
    {
     "data": {
      "text/plain": [
       "count    76020.000000\n",
       "mean         0.039569\n",
       "std          0.194945\n",
       "min          0.000000\n",
       "25%          0.000000\n",
       "50%          0.000000\n",
       "75%          0.000000\n",
       "max          1.000000\n",
       "Name: TARGET, dtype: float64"
      ]
     },
     "execution_count": 3,
     "metadata": {},
     "output_type": "execute_result"
    }
   ],
   "source": [
    "df = pd.read_csv(\"processed.csv\", header=0, index_col=\"ID\")\n",
    "df.TARGET.describe()"
   ]
  },
  {
   "cell_type": "code",
   "execution_count": 12,
   "metadata": {
    "collapsed": false
   },
   "outputs": [
    {
     "name": "stdout",
     "output_type": "stream",
     "text": [
      "(3008,)\n",
      "(73012,)\n"
     ]
    }
   ],
   "source": [
    "print( df.TARGET[df.TARGET == 1].shape )\n",
    "print( df.TARGET[df.TARGET == 0].shape)"
   ]
  },
  {
   "cell_type": "code",
   "execution_count": 4,
   "metadata": {
    "collapsed": false
   },
   "outputs": [],
   "source": [
    "y = df[\"TARGET\"].values\n",
    "X = df.ix[:, \"var3\":\"var38\"].values\n",
    "X_labels = df.ix[:, \"var3\":\"var38\"].columns.values"
   ]
  },
  {
   "cell_type": "code",
   "execution_count": 5,
   "metadata": {
    "collapsed": true
   },
   "outputs": [
    {
     "name": "stderr",
     "output_type": "stream",
     "text": [
      "/home/lttviet/scikit-learn/sklearn/linear_model/least_angle.py:309: ConvergenceWarning: Regressors in active set degenerate. Dropping a regressor, after 90 iterations, i.e. alpha=1.665e-06, with an active set of 80 regressors, and the smallest cholesky pivot element being 1.490e-08\n",
      "  ConvergenceWarning)\n",
      "/home/lttviet/scikit-learn/sklearn/linear_model/least_angle.py:309: ConvergenceWarning: Regressors in active set degenerate. Dropping a regressor, after 114 iterations, i.e. alpha=1.026e-06, with an active set of 98 regressors, and the smallest cholesky pivot element being 2.581e-08\n",
      "  ConvergenceWarning)\n",
      "/home/lttviet/scikit-learn/sklearn/linear_model/least_angle.py:309: ConvergenceWarning: Regressors in active set degenerate. Dropping a regressor, after 114 iterations, i.e. alpha=1.026e-06, with an active set of 98 regressors, and the smallest cholesky pivot element being 1.490e-08\n",
      "  ConvergenceWarning)\n",
      "/home/lttviet/scikit-learn/sklearn/linear_model/least_angle.py:309: ConvergenceWarning: Regressors in active set degenerate. Dropping a regressor, after 114 iterations, i.e. alpha=1.026e-06, with an active set of 98 regressors, and the smallest cholesky pivot element being 2.107e-08\n",
      "  ConvergenceWarning)\n",
      "/home/lttviet/scikit-learn/sklearn/linear_model/least_angle.py:309: ConvergenceWarning: Regressors in active set degenerate. Dropping a regressor, after 114 iterations, i.e. alpha=1.026e-06, with an active set of 98 regressors, and the smallest cholesky pivot element being 1.054e-08\n",
      "  ConvergenceWarning)\n",
      "/home/lttviet/scikit-learn/sklearn/linear_model/least_angle.py:309: ConvergenceWarning: Regressors in active set degenerate. Dropping a regressor, after 114 iterations, i.e. alpha=1.026e-06, with an active set of 98 regressors, and the smallest cholesky pivot element being 2.220e-16\n",
      "  ConvergenceWarning)\n",
      "/home/lttviet/scikit-learn/sklearn/linear_model/least_angle.py:309: ConvergenceWarning: Regressors in active set degenerate. Dropping a regressor, after 114 iterations, i.e. alpha=1.026e-06, with an active set of 98 regressors, and the smallest cholesky pivot element being 7.068e-08\n",
      "  ConvergenceWarning)\n",
      "/home/lttviet/scikit-learn/sklearn/linear_model/least_angle.py:309: ConvergenceWarning: Regressors in active set degenerate. Dropping a regressor, after 114 iterations, i.e. alpha=1.026e-06, with an active set of 98 regressors, and the smallest cholesky pivot element being 4.712e-08\n",
      "  ConvergenceWarning)\n",
      "/home/lttviet/scikit-learn/sklearn/linear_model/least_angle.py:334: ConvergenceWarning: Early stopping the lars path, as the residues are small and the current value of alpha is no longer well controlled. 119 iterations, alpha=9.411e-07, previous alpha=9.329e-07, with an active set of 102 regressors.\n",
      "  ConvergenceWarning)\n",
      "/home/lttviet/scikit-learn/sklearn/linear_model/least_angle.py:309: ConvergenceWarning: Regressors in active set degenerate. Dropping a regressor, after 19 iterations, i.e. alpha=1.345e-05, with an active set of 19 regressors, and the smallest cholesky pivot element being 5.162e-08\n",
      "  ConvergenceWarning)\n",
      "/home/lttviet/scikit-learn/sklearn/linear_model/least_angle.py:309: ConvergenceWarning: Regressors in active set degenerate. Dropping a regressor, after 38 iterations, i.e. alpha=7.532e-06, with an active set of 36 regressors, and the smallest cholesky pivot element being 5.162e-08\n",
      "  ConvergenceWarning)\n",
      "/home/lttviet/scikit-learn/sklearn/linear_model/least_angle.py:309: ConvergenceWarning: Regressors in active set degenerate. Dropping a regressor, after 47 iterations, i.e. alpha=5.098e-06, with an active set of 45 regressors, and the smallest cholesky pivot element being 5.162e-08\n",
      "  ConvergenceWarning)\n",
      "/home/lttviet/scikit-learn/sklearn/linear_model/least_angle.py:309: ConvergenceWarning: Regressors in active set degenerate. Dropping a regressor, after 68 iterations, i.e. alpha=3.223e-06, with an active set of 60 regressors, and the smallest cholesky pivot element being 1.490e-08\n",
      "  ConvergenceWarning)\n",
      "/home/lttviet/scikit-learn/sklearn/linear_model/least_angle.py:309: ConvergenceWarning: Regressors in active set degenerate. Dropping a regressor, after 75 iterations, i.e. alpha=2.754e-06, with an active set of 63 regressors, and the smallest cholesky pivot element being 3.650e-08\n",
      "  ConvergenceWarning)\n",
      "/home/lttviet/scikit-learn/sklearn/linear_model/least_angle.py:309: ConvergenceWarning: Regressors in active set degenerate. Dropping a regressor, after 102 iterations, i.e. alpha=1.612e-06, with an active set of 88 regressors, and the smallest cholesky pivot element being 2.220e-16\n",
      "  ConvergenceWarning)\n",
      "/home/lttviet/scikit-learn/sklearn/linear_model/least_angle.py:309: ConvergenceWarning: Regressors in active set degenerate. Dropping a regressor, after 102 iterations, i.e. alpha=1.612e-06, with an active set of 88 regressors, and the smallest cholesky pivot element being 2.788e-08\n",
      "  ConvergenceWarning)\n",
      "/home/lttviet/scikit-learn/sklearn/linear_model/least_angle.py:309: ConvergenceWarning: Regressors in active set degenerate. Dropping a regressor, after 102 iterations, i.e. alpha=1.612e-06, with an active set of 88 regressors, and the smallest cholesky pivot element being 1.054e-08\n",
      "  ConvergenceWarning)\n",
      "/home/lttviet/scikit-learn/sklearn/linear_model/least_angle.py:309: ConvergenceWarning: Regressors in active set degenerate. Dropping a regressor, after 102 iterations, i.e. alpha=1.612e-06, with an active set of 88 regressors, and the smallest cholesky pivot element being 2.107e-08\n",
      "  ConvergenceWarning)\n",
      "/home/lttviet/scikit-learn/sklearn/linear_model/least_angle.py:309: ConvergenceWarning: Regressors in active set degenerate. Dropping a regressor, after 102 iterations, i.e. alpha=1.612e-06, with an active set of 88 regressors, and the smallest cholesky pivot element being 1.490e-08\n",
      "  ConvergenceWarning)\n",
      "/home/lttviet/scikit-learn/sklearn/linear_model/least_angle.py:309: ConvergenceWarning: Regressors in active set degenerate. Dropping a regressor, after 117 iterations, i.e. alpha=1.343e-06, with an active set of 99 regressors, and the smallest cholesky pivot element being 2.107e-08\n",
      "  ConvergenceWarning)\n",
      "/home/lttviet/scikit-learn/sklearn/linear_model/least_angle.py:309: ConvergenceWarning: Regressors in active set degenerate. Dropping a regressor, after 117 iterations, i.e. alpha=1.343e-06, with an active set of 99 regressors, and the smallest cholesky pivot element being 1.490e-08\n",
      "  ConvergenceWarning)\n",
      "/home/lttviet/scikit-learn/sklearn/linear_model/least_angle.py:309: ConvergenceWarning: Regressors in active set degenerate. Dropping a regressor, after 117 iterations, i.e. alpha=1.343e-06, with an active set of 99 regressors, and the smallest cholesky pivot element being 8.752e-08\n",
      "  ConvergenceWarning)\n",
      "/home/lttviet/scikit-learn/sklearn/linear_model/least_angle.py:309: ConvergenceWarning: Regressors in active set degenerate. Dropping a regressor, after 117 iterations, i.e. alpha=1.343e-06, with an active set of 99 regressors, and the smallest cholesky pivot element being 9.884e-08\n",
      "  ConvergenceWarning)\n",
      "/home/lttviet/scikit-learn/sklearn/linear_model/least_angle.py:309: ConvergenceWarning: Regressors in active set degenerate. Dropping a regressor, after 117 iterations, i.e. alpha=1.342e-06, with an active set of 99 regressors, and the smallest cholesky pivot element being 2.220e-16\n",
      "  ConvergenceWarning)\n",
      "/home/lttviet/scikit-learn/sklearn/linear_model/least_angle.py:309: ConvergenceWarning: Regressors in active set degenerate. Dropping a regressor, after 118 iterations, i.e. alpha=1.337e-06, with an active set of 100 regressors, and the smallest cholesky pivot element being 2.356e-08\n",
      "  ConvergenceWarning)\n",
      "/home/lttviet/scikit-learn/sklearn/linear_model/least_angle.py:334: ConvergenceWarning: Early stopping the lars path, as the residues are small and the current value of alpha is no longer well controlled. 122 iterations, alpha=1.303e-06, previous alpha=1.276e-06, with an active set of 103 regressors.\n",
      "  ConvergenceWarning)\n",
      "/home/lttviet/scikit-learn/sklearn/linear_model/least_angle.py:309: ConvergenceWarning: Regressors in active set degenerate. Dropping a regressor, after 70 iterations, i.e. alpha=2.321e-06, with an active set of 64 regressors, and the smallest cholesky pivot element being 2.220e-16\n",
      "  ConvergenceWarning)\n",
      "/home/lttviet/scikit-learn/sklearn/linear_model/least_angle.py:309: ConvergenceWarning: Regressors in active set degenerate. Dropping a regressor, after 92 iterations, i.e. alpha=1.523e-06, with an active set of 82 regressors, and the smallest cholesky pivot element being 1.054e-08\n",
      "  ConvergenceWarning)\n",
      "/home/lttviet/scikit-learn/sklearn/linear_model/least_angle.py:309: ConvergenceWarning: Regressors in active set degenerate. Dropping a regressor, after 113 iterations, i.e. alpha=1.160e-06, with an active set of 99 regressors, and the smallest cholesky pivot element being 2.107e-08\n",
      "  ConvergenceWarning)\n",
      "/home/lttviet/scikit-learn/sklearn/linear_model/least_angle.py:309: ConvergenceWarning: Regressors in active set degenerate. Dropping a regressor, after 113 iterations, i.e. alpha=1.160e-06, with an active set of 99 regressors, and the smallest cholesky pivot element being 2.220e-16\n",
      "  ConvergenceWarning)\n",
      "/home/lttviet/scikit-learn/sklearn/linear_model/least_angle.py:309: ConvergenceWarning: Regressors in active set degenerate. Dropping a regressor, after 113 iterations, i.e. alpha=1.160e-06, with an active set of 99 regressors, and the smallest cholesky pivot element being 1.490e-08\n",
      "  ConvergenceWarning)\n",
      "/home/lttviet/scikit-learn/sklearn/linear_model/least_angle.py:309: ConvergenceWarning: Regressors in active set degenerate. Dropping a regressor, after 113 iterations, i.e. alpha=1.160e-06, with an active set of 99 regressors, and the smallest cholesky pivot element being 1.054e-08\n",
      "  ConvergenceWarning)\n",
      "/home/lttviet/scikit-learn/sklearn/linear_model/least_angle.py:309: ConvergenceWarning: Regressors in active set degenerate. Dropping a regressor, after 113 iterations, i.e. alpha=1.160e-06, with an active set of 99 regressors, and the smallest cholesky pivot element being 5.867e-08\n",
      "  ConvergenceWarning)\n",
      "/home/lttviet/scikit-learn/sklearn/linear_model/least_angle.py:309: ConvergenceWarning: Regressors in active set degenerate. Dropping a regressor, after 114 iterations, i.e. alpha=1.155e-06, with an active set of 100 regressors, and the smallest cholesky pivot element being 2.107e-08\n",
      "  ConvergenceWarning)\n",
      "/home/lttviet/scikit-learn/sklearn/linear_model/least_angle.py:309: ConvergenceWarning: Regressors in active set degenerate. Dropping a regressor, after 117 iterations, i.e. alpha=1.100e-06, with an active set of 101 regressors, and the smallest cholesky pivot element being 1.490e-08\n",
      "  ConvergenceWarning)\n",
      "/home/lttviet/scikit-learn/sklearn/linear_model/least_angle.py:309: ConvergenceWarning: Regressors in active set degenerate. Dropping a regressor, after 117 iterations, i.e. alpha=1.099e-06, with an active set of 101 regressors, and the smallest cholesky pivot element being 1.490e-08\n",
      "  ConvergenceWarning)\n",
      "/home/lttviet/scikit-learn/sklearn/linear_model/least_angle.py:334: ConvergenceWarning: Early stopping the lars path, as the residues are small and the current value of alpha is no longer well controlled. 123 iterations, alpha=9.294e-07, previous alpha=9.173e-07, with an active set of 106 regressors.\n",
      "  ConvergenceWarning)\n"
     ]
    },
    {
     "data": {
      "text/plain": [
       "LassoLarsCV(copy_X=True, cv=None, eps=2.2204460492503131e-16,\n",
       "      fit_intercept=True, max_iter=500, max_n_alphas=1000, n_jobs=1,\n",
       "      normalize=True, positive=False, precompute='auto', verbose=False)"
      ]
     },
     "execution_count": 5,
     "metadata": {},
     "output_type": "execute_result"
    }
   ],
   "source": [
    "lr = LassoLarsCV()\n",
    "sfm = SelectFromModel(lr, threshold=1e-3)\n",
    "X_std = StandardScaler().fit_transform(X, y)\n",
    "sfm.fit(X_std,y)\n",
    "lr.fit(X_std, y)"
   ]
  },
  {
   "cell_type": "code",
   "execution_count": 6,
   "metadata": {
    "collapsed": false
   },
   "outputs": [
    {
     "data": {
      "text/plain": [
       "<matplotlib.axes._subplots.AxesSubplot at 0x7fbc25e08908>"
      ]
     },
     "execution_count": 6,
     "metadata": {},
     "output_type": "execute_result"
    },
    {
     "data": {
      "image/png": "[encoded data removed]",
      "text/plain": [
       "<matplotlib.figure.Figure at 0x7fbc262b6b00>"
      ]
     },
     "metadata": {},
     "output_type": "display_data"
    }
   ],
   "source": [
    "feat_imp = pd.DataFrame(lr.coef_, index=X_labels)\n",
    "feat_imp.plot(kind=\"bar\", title=\"Feature Importance\", use_index=False)"
   ]
  },
  {
   "cell_type": "code",
   "execution_count": 5,
   "metadata": {
    "collapsed": false
   },
   "outputs": [
    {
     "name": "stdout",
     "output_type": "stream",
     "text": [
      "23\n"
     ]
    },
    {
     "data": {
      "text/plain": [
       "['var3',\n",
       " 'var15',\n",
       " 'imp_op_var40_efect_ult3',\n",
       " 'imp_op_var39_efect_ult1',\n",
       " 'ind_var8_0',\n",
       " 'ind_var12_0',\n",
       " 'ind_var13',\n",
       " 'ind_var24',\n",
       " 'ind_var30_0',\n",
       " 'ind_var30',\n",
       " 'ind_var31_0',\n",
       " 'num_var14_0',\n",
       " 'saldo_var5',\n",
       " 'saldo_var26',\n",
       " 'saldo_var30',\n",
       " 'var36',\n",
       " 'ind_var43_recib_ult1',\n",
       " 'num_var22_ult1',\n",
       " 'num_med_var22_ult3',\n",
       " 'num_meses_var5_ult3',\n",
       " 'num_op_var39_efect_ult3',\n",
       " 'num_reemb_var17_ult1',\n",
       " 'var38']"
      ]
     },
     "execution_count": 5,
     "metadata": {},
     "output_type": "execute_result"
    }
   ],
   "source": [
    "chosen_feat = [ f for i,f in enumerate(X_labels) if sfm.get_support()[i] ]\n",
    "#chosen_feat = pickle.load(open(\"feat\", \"rb\"))\n",
    "print(len(chosen_feat))\n",
    "chosen_feat"
   ]
  },
  {
   "cell_type": "code",
   "execution_count": 6,
   "metadata": {
    "collapsed": true
   },
   "outputs": [],
   "source": [
    "# kaggle forum\n",
    "df.var3 = df.var3.replace(-999999,2)\n",
    "y = df[\"TARGET\"].values\n",
    "X = df.ix[:, \"var3\":\"var38\"].values\n",
    "X_labels = df.ix[:, \"var3\":\"var38\"].columns.values"
   ]
  },
  {
   "cell_type": "code",
   "execution_count": 7,
   "metadata": {
    "collapsed": true
   },
   "outputs": [],
   "source": [
    "test = pd.read_csv(\"processed_test.csv\", header=0, index_col=\"ID\")\n",
    "test.var3 = test.var3.replace(-999999,2)\n",
    "\n",
    "X_test = test[chosen_feat].values"
   ]
  },
  {
   "cell_type": "code",
   "execution_count": 8,
   "metadata": {
    "collapsed": true
   },
   "outputs": [],
   "source": [
    "X_sel = df[chosen_feat].values"
   ]
  },
  {
   "cell_type": "code",
   "execution_count": 9,
   "metadata": {
    "collapsed": false
   },
   "outputs": [],
   "source": [
    "stage2_train = pd.DataFrame(index=df.index)\n",
    "stage2_test = pd.DataFrame(index=test.index)"
   ]
  },
  {
   "cell_type": "code",
   "execution_count": 19,
   "metadata": {
    "collapsed": false
   },
   "outputs": [],
   "source": [
    "# Linear model\n",
    "logmodel = Pipeline([\n",
    "        (\"scl\", StandardScaler()),\n",
    "        (\"clf\", LogisticRegressionCV(penalty=\"l2\", cv=5, max_iter=500, scoring=\"roc_auc\", \n",
    "                                     n_jobs=-1 ,random_state=1))\n",
    "    ])\n",
    "\n",
    "logmodel.fit(X_sel,y)\n",
    "#logmodel = pickle.load(open(\"logmodel.p\", \"rb\"))\n",
    "temp = logmodel.predict_proba(X_sel)[:,1]"
   ]
  },
  {
   "cell_type": "code",
   "execution_count": 11,
   "metadata": {
    "collapsed": false
   },
   "outputs": [
    {
     "name": "stdout",
     "output_type": "stream",
     "text": [
      "[ 0.78784072  0.77956982  0.80282835  0.79958595  0.79435441]\n",
      "AUC score 0.792791748658\n"
     ]
    }
   ],
   "source": [
    "s = cross_val_score(logmodel, X_sel, y, scoring=\"roc_auc\", cv=5) \n",
    "print(s)\n",
    "print( \"AUC score\", gmean(s) )"
   ]
  },
  {
   "cell_type": "code",
   "execution_count": 12,
   "metadata": {
    "collapsed": false
   },
   "outputs": [],
   "source": [
    "stage2_train[\"LogModel\"] = pd.DataFrame(temp, index=df.index)"
   ]
  },
  {
   "cell_type": "code",
   "execution_count": 13,
   "metadata": {
    "collapsed": false
   },
   "outputs": [],
   "source": [
    "stage2_test[\"LogModel\"] = logmodel.predict_proba(X_test)[:,1]"
   ]
  },
  {
   "cell_type": "code",
   "execution_count": 18,
   "metadata": {
    "collapsed": false
   },
   "outputs": [],
   "source": [
    "xgbc = xgb.XGBClassifier(max_depth=5, n_estimators=200, learning_rate=0.03, nthread=4, \n",
    "                          subsample=0.6815, colsample_bytree=0.701, seed=1234)\n",
    "xgbc.fit(X, y, eval_metric=\"auc\", verbose=2)\n",
    "#xgbc = pickle.load( open(\"xgbc.p\", \"rb\") )\n",
    "temp = xgbc.predict_proba(X_sel)[:, 1]"
   ]
  },
  {
   "cell_type": "code",
   "execution_count": 15,
   "metadata": {
    "collapsed": false
   },
   "outputs": [
    {
     "name": "stdout",
     "output_type": "stream",
     "text": [
      "[ 0.83491827  0.82612263  0.84021155  0.85126094  0.83288542]\n",
      "AUC score 0.837037701123\n"
     ]
    }
   ],
   "source": [
    "s = cross_val_score(xgbc, X_sel, y, scoring=\"roc_auc\", cv=5) \n",
    "print(s)\n",
    "print( \"AUC score\", gmean(s) )"
   ]
  },
  {
   "cell_type": "code",
   "execution_count": 16,
   "metadata": {
    "collapsed": true
   },
   "outputs": [],
   "source": [
    "stage2_train[\"XGBoost1\"] = pd.DataFrame(temp, index=df.index)"
   ]
  },
  {
   "cell_type": "code",
   "execution_count": 17,
   "metadata": {
    "collapsed": true
   },
   "outputs": [],
   "source": [
    "stage2_test[\"XGBoost1\"] = xgbc.predict_proba(X_test)[:,1]"
   ]
  },
  {
   "cell_type": "code",
   "execution_count": 20,
   "metadata": {
    "collapsed": false
   },
   "outputs": [],
   "source": [
    "xgbc2 = xgb.XGBClassifier(max_depth=5, n_estimators=70, learning_rate=0.1, nthread=4, gamma=0.2,\n",
    "                          subsample=0.4, colsample_bytree=0.7, min_child_weight=1, seed=1)\n",
    "\n",
    "xgbc2.fit(X_sel, y, eval_metric=\"auc\", verbose=0)\n",
    "#xgbc2 = pickle.load(open(\"xgbc2.p\", \"rb\"))\n",
    "temp = xgbc2.predict_proba(X_sel)[:, 1]"
   ]
  },
  {
   "cell_type": "code",
   "execution_count": 21,
   "metadata": {
    "collapsed": false
   },
   "outputs": [
    {
     "name": "stdout",
     "output_type": "stream",
     "text": [
      "[ 0.83199204  0.82594466  0.84007561  0.85046797  0.83132755]\n",
      "AUC score 0.835918095692\n"
     ]
    }
   ],
   "source": [
    "s = cross_val_score(xgbc2, X_sel, y, scoring=\"roc_auc\", cv=5) \n",
    "print(s)\n",
    "print( \"AUC score\", gmean(s) )"
   ]
  },
  {
   "cell_type": "code",
   "execution_count": 22,
   "metadata": {
    "collapsed": true
   },
   "outputs": [],
   "source": [
    "stage2_train[\"XGBoost2\"] = pd.DataFrame(temp, index=df.index)"
   ]
  },
  {
   "cell_type": "code",
   "execution_count": 23,
   "metadata": {
    "collapsed": false
   },
   "outputs": [],
   "source": [
    "stage2_test[\"XGBoost2\"] = xgbc2.predict_proba(X_test)[:,1]"
   ]
  },
  {
   "cell_type": "code",
   "execution_count": 26,
   "metadata": {
    "collapsed": false
   },
   "outputs": [
    {
     "data": {
      "text/plain": [
       "<matplotlib.axes._subplots.AxesSubplot at 0x7f0e0418ad68>"
      ]
     },
     "execution_count": 26,
     "metadata": {},
     "output_type": "execute_result"
    },
    {
     "data": {
      "image/png": "[encoded data removed]",
      "text/plain": [
       "<matplotlib.figure.Figure at 0x7f0e2b000eb8>"
      ]
     },
     "metadata": {},
     "output_type": "display_data"
    }
   ],
   "source": [
    "x = pd.DataFrame(xgbc2.feature_importances_, index=chosen_feat)\n",
    "x.sort_values(by=0, inplace=True, ascending=False)\n",
    "x.plot(kind=\"bar\")"
   ]
  },
  {
   "cell_type": "code",
   "execution_count": 27,
   "metadata": {
    "collapsed": false
   },
   "outputs": [],
   "source": [
    "rfc = RandomForestClassifier(n_estimators=10, criterion=\"entropy\", max_features=None, max_depth=7,\n",
    "                             min_samples_leaf=9, n_jobs=4, random_state=1)\n",
    "rfc.fit(X_sel, y)\n",
    "#rfc = pickle.load( open(\"rfc.p\", \"rb\"))\n",
    "temp = rfc.predict_proba(X_sel)[:, 1]"
   ]
  },
  {
   "cell_type": "code",
   "execution_count": 28,
   "metadata": {
    "collapsed": false
   },
   "outputs": [
    {
     "name": "stdout",
     "output_type": "stream",
     "text": [
      "[ 0.83097941  0.8220707   0.83359297  0.84582492  0.82486153]\n",
      "AUC score 0.831424851416\n"
     ]
    }
   ],
   "source": [
    "s = cross_val_score(rfc, X_sel, y, scoring=\"roc_auc\", cv=5) \n",
    "print(s)\n",
    "print( \"AUC score\", gmean(s) )"
   ]
  },
  {
   "cell_type": "code",
   "execution_count": 29,
   "metadata": {
    "collapsed": true
   },
   "outputs": [],
   "source": [
    "stage2_train[\"RandomForest\"] = pd.DataFrame(temp, index=df.index)"
   ]
  },
  {
   "cell_type": "code",
   "execution_count": 30,
   "metadata": {
    "collapsed": true
   },
   "outputs": [],
   "source": [
    "stage2_test[\"RandomForest\"] = rfc.predict_proba(X_test)[:,1]"
   ]
  },
  {
   "cell_type": "code",
   "execution_count": 31,
   "metadata": {
    "collapsed": false
   },
   "outputs": [],
   "source": [
    "temp = pd.read_csv(\"simplexgbtrain.csv\", header=0, index_col=\"ID\")\n",
    "stage2_train[\"XGBoost3\"] = temp.PREDICTION.values"
   ]
  },
  {
   "cell_type": "code",
   "execution_count": 32,
   "metadata": {
    "collapsed": true
   },
   "outputs": [],
   "source": [
    "temp = pd.read_csv(\"simplexgbtest.csv\", header=0, index_col=\"ID\")\n",
    "stage2_test[\"XGBoost3\"] = temp.TARGET.values"
   ]
  },
  {
   "cell_type": "code",
   "execution_count": 33,
   "metadata": {
    "collapsed": false,
    "scrolled": true
   },
   "outputs": [],
   "source": [
    "temp = pd.read_csv(\"trainR1.csv\", header=0)\n",
    "stage2_train[\"XGBoostR1\"] = temp.TARGET.values"
   ]
  },
  {
   "cell_type": "code",
   "execution_count": 34,
   "metadata": {
    "collapsed": false
   },
   "outputs": [],
   "source": [
    "temp = pd.read_csv(\"testR1.csv\", header=0, index_col=\"ID\")\n",
    "stage2_test[\"XGBoostR1\"] = temp.TARGET.values"
   ]
  },
  {
   "cell_type": "code",
   "execution_count": 35,
   "metadata": {
    "collapsed": true
   },
   "outputs": [
    {
     "data": {
      "text/html": [
       "<div>\n",
       "<table border=\"1\" class=\"dataframe\">\n",
       "  <thead>\n",
       "    <tr style=\"text-align: right;\">\n",
       "      <th></th>\n",
       "      <th>LogModel</th>\n",
       "      <th>XGBoost1</th>\n",
       "      <th>XGBoost2</th>\n",
       "      <th>RandomForest</th>\n",
       "      <th>XGBoost3</th>\n",
       "      <th>XGBoostR1</th>\n",
       "    </tr>\n",
       "    <tr>\n",
       "      <th>ID</th>\n",
       "      <th></th>\n",
       "      <th></th>\n",
       "      <th></th>\n",
       "      <th></th>\n",
       "      <th></th>\n",
       "      <th></th>\n",
       "    </tr>\n",
       "  </thead>\n",
       "  <tbody>\n",
       "    <tr>\n",
       "      <th>1</th>\n",
       "      <td>0.069900</td>\n",
       "      <td>0.042096</td>\n",
       "      <td>0.042904</td>\n",
       "      <td>0.050267</td>\n",
       "      <td>0.379503</td>\n",
       "      <td>0.031894</td>\n",
       "    </tr>\n",
       "    <tr>\n",
       "      <th>3</th>\n",
       "      <td>0.009583</td>\n",
       "      <td>0.209589</td>\n",
       "      <td>0.027452</td>\n",
       "      <td>0.026152</td>\n",
       "      <td>0.374895</td>\n",
       "      <td>0.015324</td>\n",
       "    </tr>\n",
       "    <tr>\n",
       "      <th>4</th>\n",
       "      <td>0.015394</td>\n",
       "      <td>0.042096</td>\n",
       "      <td>0.003747</td>\n",
       "      <td>0.002548</td>\n",
       "      <td>0.370870</td>\n",
       "      <td>0.002336</td>\n",
       "    </tr>\n",
       "    <tr>\n",
       "      <th>8</th>\n",
       "      <td>0.029563</td>\n",
       "      <td>0.207767</td>\n",
       "      <td>0.038705</td>\n",
       "      <td>0.032987</td>\n",
       "      <td>0.377370</td>\n",
       "      <td>0.022475</td>\n",
       "    </tr>\n",
       "    <tr>\n",
       "      <th>10</th>\n",
       "      <td>0.005070</td>\n",
       "      <td>0.223680</td>\n",
       "      <td>0.007794</td>\n",
       "      <td>0.005741</td>\n",
       "      <td>0.373831</td>\n",
       "      <td>0.007099</td>\n",
       "    </tr>\n",
       "    <tr>\n",
       "      <th>13</th>\n",
       "      <td>0.062640</td>\n",
       "      <td>0.042096</td>\n",
       "      <td>0.017607</td>\n",
       "      <td>0.018644</td>\n",
       "      <td>0.374678</td>\n",
       "      <td>0.014159</td>\n",
       "    </tr>\n",
       "    <tr>\n",
       "      <th>14</th>\n",
       "      <td>0.015093</td>\n",
       "      <td>0.209574</td>\n",
       "      <td>0.022930</td>\n",
       "      <td>0.034746</td>\n",
       "      <td>0.377427</td>\n",
       "      <td>0.020323</td>\n",
       "    </tr>\n",
       "    <tr>\n",
       "      <th>18</th>\n",
       "      <td>0.012761</td>\n",
       "      <td>0.145536</td>\n",
       "      <td>0.015315</td>\n",
       "      <td>0.018049</td>\n",
       "      <td>0.373503</td>\n",
       "      <td>0.013049</td>\n",
       "    </tr>\n",
       "    <tr>\n",
       "      <th>20</th>\n",
       "      <td>0.127252</td>\n",
       "      <td>0.220539</td>\n",
       "      <td>0.176396</td>\n",
       "      <td>0.179191</td>\n",
       "      <td>0.414262</td>\n",
       "      <td>0.185466</td>\n",
       "    </tr>\n",
       "    <tr>\n",
       "      <th>23</th>\n",
       "      <td>0.009585</td>\n",
       "      <td>0.070941</td>\n",
       "      <td>0.010256</td>\n",
       "      <td>0.014871</td>\n",
       "      <td>0.370870</td>\n",
       "      <td>0.010219</td>\n",
       "    </tr>\n",
       "    <tr>\n",
       "      <th>25</th>\n",
       "      <td>0.065669</td>\n",
       "      <td>0.225907</td>\n",
       "      <td>0.017865</td>\n",
       "      <td>0.008964</td>\n",
       "      <td>0.373741</td>\n",
       "      <td>0.017197</td>\n",
       "    </tr>\n",
       "    <tr>\n",
       "      <th>26</th>\n",
       "      <td>0.071470</td>\n",
       "      <td>0.145536</td>\n",
       "      <td>0.047193</td>\n",
       "      <td>0.059539</td>\n",
       "      <td>0.376113</td>\n",
       "      <td>0.045884</td>\n",
       "    </tr>\n",
       "    <tr>\n",
       "      <th>29</th>\n",
       "      <td>0.037096</td>\n",
       "      <td>0.227224</td>\n",
       "      <td>0.033957</td>\n",
       "      <td>0.034761</td>\n",
       "      <td>0.377620</td>\n",
       "      <td>0.032598</td>\n",
       "    </tr>\n",
       "    <tr>\n",
       "      <th>31</th>\n",
       "      <td>0.005471</td>\n",
       "      <td>0.226015</td>\n",
       "      <td>0.005292</td>\n",
       "      <td>0.003648</td>\n",
       "      <td>0.373380</td>\n",
       "      <td>0.003113</td>\n",
       "    </tr>\n",
       "    <tr>\n",
       "      <th>32</th>\n",
       "      <td>0.029758</td>\n",
       "      <td>0.271288</td>\n",
       "      <td>0.023140</td>\n",
       "      <td>0.009477</td>\n",
       "      <td>0.373954</td>\n",
       "      <td>0.022632</td>\n",
       "    </tr>\n",
       "    <tr>\n",
       "      <th>34</th>\n",
       "      <td>0.018190</td>\n",
       "      <td>0.213762</td>\n",
       "      <td>0.036034</td>\n",
       "      <td>0.038164</td>\n",
       "      <td>0.378006</td>\n",
       "      <td>0.034396</td>\n",
       "    </tr>\n",
       "    <tr>\n",
       "      <th>36</th>\n",
       "      <td>0.119263</td>\n",
       "      <td>0.218510</td>\n",
       "      <td>0.179170</td>\n",
       "      <td>0.179191</td>\n",
       "      <td>0.408115</td>\n",
       "      <td>0.155133</td>\n",
       "    </tr>\n",
       "    <tr>\n",
       "      <th>39</th>\n",
       "      <td>0.015144</td>\n",
       "      <td>0.225736</td>\n",
       "      <td>0.010525</td>\n",
       "      <td>0.009606</td>\n",
       "      <td>0.374062</td>\n",
       "      <td>0.006842</td>\n",
       "    </tr>\n",
       "    <tr>\n",
       "      <th>42</th>\n",
       "      <td>0.004038</td>\n",
       "      <td>0.118750</td>\n",
       "      <td>0.008729</td>\n",
       "      <td>0.012497</td>\n",
       "      <td>0.373844</td>\n",
       "      <td>0.006073</td>\n",
       "    </tr>\n",
       "    <tr>\n",
       "      <th>43</th>\n",
       "      <td>0.015583</td>\n",
       "      <td>0.200109</td>\n",
       "      <td>0.022615</td>\n",
       "      <td>0.023223</td>\n",
       "      <td>0.378006</td>\n",
       "      <td>0.021027</td>\n",
       "    </tr>\n",
       "    <tr>\n",
       "      <th>45</th>\n",
       "      <td>0.065353</td>\n",
       "      <td>0.042096</td>\n",
       "      <td>0.020303</td>\n",
       "      <td>0.015372</td>\n",
       "      <td>0.374678</td>\n",
       "      <td>0.017319</td>\n",
       "    </tr>\n",
       "    <tr>\n",
       "      <th>49</th>\n",
       "      <td>0.016263</td>\n",
       "      <td>0.209574</td>\n",
       "      <td>0.030324</td>\n",
       "      <td>0.037875</td>\n",
       "      <td>0.377427</td>\n",
       "      <td>0.031652</td>\n",
       "    </tr>\n",
       "    <tr>\n",
       "      <th>51</th>\n",
       "      <td>0.006150</td>\n",
       "      <td>0.208539</td>\n",
       "      <td>0.024195</td>\n",
       "      <td>0.049548</td>\n",
       "      <td>0.379493</td>\n",
       "      <td>0.095614</td>\n",
       "    </tr>\n",
       "    <tr>\n",
       "      <th>54</th>\n",
       "      <td>0.043234</td>\n",
       "      <td>0.227224</td>\n",
       "      <td>0.043306</td>\n",
       "      <td>0.038588</td>\n",
       "      <td>0.381803</td>\n",
       "      <td>0.040741</td>\n",
       "    </tr>\n",
       "    <tr>\n",
       "      <th>56</th>\n",
       "      <td>0.111708</td>\n",
       "      <td>0.218404</td>\n",
       "      <td>0.179170</td>\n",
       "      <td>0.179191</td>\n",
       "      <td>0.414131</td>\n",
       "      <td>0.181403</td>\n",
       "    </tr>\n",
       "    <tr>\n",
       "      <th>60</th>\n",
       "      <td>0.227808</td>\n",
       "      <td>0.237771</td>\n",
       "      <td>0.051555</td>\n",
       "      <td>0.013143</td>\n",
       "      <td>0.375001</td>\n",
       "      <td>0.020643</td>\n",
       "    </tr>\n",
       "    <tr>\n",
       "      <th>61</th>\n",
       "      <td>0.062883</td>\n",
       "      <td>0.042096</td>\n",
       "      <td>0.020094</td>\n",
       "      <td>0.018644</td>\n",
       "      <td>0.374678</td>\n",
       "      <td>0.014354</td>\n",
       "    </tr>\n",
       "    <tr>\n",
       "      <th>66</th>\n",
       "      <td>0.072182</td>\n",
       "      <td>0.070941</td>\n",
       "      <td>0.048131</td>\n",
       "      <td>0.052679</td>\n",
       "      <td>0.377413</td>\n",
       "      <td>0.054098</td>\n",
       "    </tr>\n",
       "    <tr>\n",
       "      <th>68</th>\n",
       "      <td>0.017240</td>\n",
       "      <td>0.058789</td>\n",
       "      <td>0.009049</td>\n",
       "      <td>0.008958</td>\n",
       "      <td>0.370870</td>\n",
       "      <td>0.007906</td>\n",
       "    </tr>\n",
       "    <tr>\n",
       "      <th>74</th>\n",
       "      <td>0.015328</td>\n",
       "      <td>0.042096</td>\n",
       "      <td>0.003874</td>\n",
       "      <td>0.000043</td>\n",
       "      <td>0.371183</td>\n",
       "      <td>0.003957</td>\n",
       "    </tr>\n",
       "    <tr>\n",
       "      <th>...</th>\n",
       "      <td>...</td>\n",
       "      <td>...</td>\n",
       "      <td>...</td>\n",
       "      <td>...</td>\n",
       "      <td>...</td>\n",
       "      <td>...</td>\n",
       "    </tr>\n",
       "    <tr>\n",
       "      <th>151793</th>\n",
       "      <td>0.008955</td>\n",
       "      <td>0.241250</td>\n",
       "      <td>0.069097</td>\n",
       "      <td>0.044924</td>\n",
       "      <td>0.376031</td>\n",
       "      <td>0.015171</td>\n",
       "    </tr>\n",
       "    <tr>\n",
       "      <th>151794</th>\n",
       "      <td>0.017528</td>\n",
       "      <td>0.145536</td>\n",
       "      <td>0.015327</td>\n",
       "      <td>0.013258</td>\n",
       "      <td>0.373760</td>\n",
       "      <td>0.011302</td>\n",
       "    </tr>\n",
       "    <tr>\n",
       "      <th>151795</th>\n",
       "      <td>0.013386</td>\n",
       "      <td>0.058789</td>\n",
       "      <td>0.007030</td>\n",
       "      <td>0.008297</td>\n",
       "      <td>0.370870</td>\n",
       "      <td>0.005453</td>\n",
       "    </tr>\n",
       "    <tr>\n",
       "      <th>151796</th>\n",
       "      <td>0.057650</td>\n",
       "      <td>0.042096</td>\n",
       "      <td>0.014723</td>\n",
       "      <td>0.008341</td>\n",
       "      <td>0.374202</td>\n",
       "      <td>0.011861</td>\n",
       "    </tr>\n",
       "    <tr>\n",
       "      <th>151797</th>\n",
       "      <td>0.035308</td>\n",
       "      <td>0.042096</td>\n",
       "      <td>0.009675</td>\n",
       "      <td>0.003397</td>\n",
       "      <td>0.377448</td>\n",
       "      <td>0.006151</td>\n",
       "    </tr>\n",
       "    <tr>\n",
       "      <th>151798</th>\n",
       "      <td>0.017170</td>\n",
       "      <td>0.058789</td>\n",
       "      <td>0.007901</td>\n",
       "      <td>0.007445</td>\n",
       "      <td>0.370870</td>\n",
       "      <td>0.005453</td>\n",
       "    </tr>\n",
       "    <tr>\n",
       "      <th>151799</th>\n",
       "      <td>0.015967</td>\n",
       "      <td>0.213762</td>\n",
       "      <td>0.036034</td>\n",
       "      <td>0.040079</td>\n",
       "      <td>0.378640</td>\n",
       "      <td>0.037386</td>\n",
       "    </tr>\n",
       "    <tr>\n",
       "      <th>151800</th>\n",
       "      <td>0.013070</td>\n",
       "      <td>0.060688</td>\n",
       "      <td>0.003701</td>\n",
       "      <td>0.006162</td>\n",
       "      <td>0.371174</td>\n",
       "      <td>0.002527</td>\n",
       "    </tr>\n",
       "    <tr>\n",
       "      <th>151801</th>\n",
       "      <td>0.268921</td>\n",
       "      <td>0.193499</td>\n",
       "      <td>0.182978</td>\n",
       "      <td>0.200357</td>\n",
       "      <td>0.419636</td>\n",
       "      <td>0.189016</td>\n",
       "    </tr>\n",
       "    <tr>\n",
       "      <th>151802</th>\n",
       "      <td>0.039414</td>\n",
       "      <td>0.240165</td>\n",
       "      <td>0.013777</td>\n",
       "      <td>0.014444</td>\n",
       "      <td>0.373619</td>\n",
       "      <td>0.011721</td>\n",
       "    </tr>\n",
       "    <tr>\n",
       "      <th>151804</th>\n",
       "      <td>0.093218</td>\n",
       "      <td>0.172068</td>\n",
       "      <td>0.029098</td>\n",
       "      <td>0.039246</td>\n",
       "      <td>0.377632</td>\n",
       "      <td>0.040719</td>\n",
       "    </tr>\n",
       "    <tr>\n",
       "      <th>151805</th>\n",
       "      <td>0.013974</td>\n",
       "      <td>0.060688</td>\n",
       "      <td>0.003890</td>\n",
       "      <td>0.006500</td>\n",
       "      <td>0.371174</td>\n",
       "      <td>0.002626</td>\n",
       "    </tr>\n",
       "    <tr>\n",
       "      <th>151806</th>\n",
       "      <td>0.002328</td>\n",
       "      <td>0.215004</td>\n",
       "      <td>0.006879</td>\n",
       "      <td>0.007313</td>\n",
       "      <td>0.373441</td>\n",
       "      <td>0.013268</td>\n",
       "    </tr>\n",
       "    <tr>\n",
       "      <th>151807</th>\n",
       "      <td>0.013776</td>\n",
       "      <td>0.042096</td>\n",
       "      <td>0.005855</td>\n",
       "      <td>0.002602</td>\n",
       "      <td>0.371499</td>\n",
       "      <td>0.005409</td>\n",
       "    </tr>\n",
       "    <tr>\n",
       "      <th>151808</th>\n",
       "      <td>0.002399</td>\n",
       "      <td>0.228094</td>\n",
       "      <td>0.007514</td>\n",
       "      <td>0.006906</td>\n",
       "      <td>0.373593</td>\n",
       "      <td>0.004295</td>\n",
       "    </tr>\n",
       "    <tr>\n",
       "      <th>151809</th>\n",
       "      <td>0.024319</td>\n",
       "      <td>0.216517</td>\n",
       "      <td>0.064300</td>\n",
       "      <td>0.049407</td>\n",
       "      <td>0.381804</td>\n",
       "      <td>0.059918</td>\n",
       "    </tr>\n",
       "    <tr>\n",
       "      <th>151810</th>\n",
       "      <td>0.052607</td>\n",
       "      <td>0.238428</td>\n",
       "      <td>0.060086</td>\n",
       "      <td>0.039124</td>\n",
       "      <td>0.375963</td>\n",
       "      <td>0.114783</td>\n",
       "    </tr>\n",
       "    <tr>\n",
       "      <th>151811</th>\n",
       "      <td>0.306476</td>\n",
       "      <td>0.222721</td>\n",
       "      <td>0.288846</td>\n",
       "      <td>0.186247</td>\n",
       "      <td>0.424700</td>\n",
       "      <td>0.307839</td>\n",
       "    </tr>\n",
       "    <tr>\n",
       "      <th>151813</th>\n",
       "      <td>0.015159</td>\n",
       "      <td>0.043480</td>\n",
       "      <td>0.002301</td>\n",
       "      <td>0.000318</td>\n",
       "      <td>0.370859</td>\n",
       "      <td>0.001468</td>\n",
       "    </tr>\n",
       "    <tr>\n",
       "      <th>151815</th>\n",
       "      <td>0.017364</td>\n",
       "      <td>0.191242</td>\n",
       "      <td>0.057550</td>\n",
       "      <td>0.114680</td>\n",
       "      <td>0.387603</td>\n",
       "      <td>0.040147</td>\n",
       "    </tr>\n",
       "    <tr>\n",
       "      <th>151816</th>\n",
       "      <td>0.056326</td>\n",
       "      <td>0.070941</td>\n",
       "      <td>0.014658</td>\n",
       "      <td>0.012106</td>\n",
       "      <td>0.374949</td>\n",
       "      <td>0.014575</td>\n",
       "    </tr>\n",
       "    <tr>\n",
       "      <th>151818</th>\n",
       "      <td>0.113555</td>\n",
       "      <td>0.292962</td>\n",
       "      <td>0.138235</td>\n",
       "      <td>0.125856</td>\n",
       "      <td>0.388265</td>\n",
       "      <td>0.062267</td>\n",
       "    </tr>\n",
       "    <tr>\n",
       "      <th>151820</th>\n",
       "      <td>0.046206</td>\n",
       "      <td>0.144274</td>\n",
       "      <td>0.088012</td>\n",
       "      <td>0.102332</td>\n",
       "      <td>0.383572</td>\n",
       "      <td>0.141356</td>\n",
       "    </tr>\n",
       "    <tr>\n",
       "      <th>151821</th>\n",
       "      <td>0.027660</td>\n",
       "      <td>0.208539</td>\n",
       "      <td>0.070996</td>\n",
       "      <td>0.058294</td>\n",
       "      <td>0.379737</td>\n",
       "      <td>0.052490</td>\n",
       "    </tr>\n",
       "    <tr>\n",
       "      <th>151825</th>\n",
       "      <td>0.057664</td>\n",
       "      <td>0.244746</td>\n",
       "      <td>0.032080</td>\n",
       "      <td>0.019675</td>\n",
       "      <td>0.377252</td>\n",
       "      <td>0.020390</td>\n",
       "    </tr>\n",
       "    <tr>\n",
       "      <th>151829</th>\n",
       "      <td>0.152427</td>\n",
       "      <td>0.221995</td>\n",
       "      <td>0.223266</td>\n",
       "      <td>0.217962</td>\n",
       "      <td>0.421912</td>\n",
       "      <td>0.242191</td>\n",
       "    </tr>\n",
       "    <tr>\n",
       "      <th>151830</th>\n",
       "      <td>0.011825</td>\n",
       "      <td>0.223680</td>\n",
       "      <td>0.012659</td>\n",
       "      <td>0.006570</td>\n",
       "      <td>0.373286</td>\n",
       "      <td>0.008685</td>\n",
       "    </tr>\n",
       "    <tr>\n",
       "      <th>151835</th>\n",
       "      <td>0.019280</td>\n",
       "      <td>0.042096</td>\n",
       "      <td>0.005766</td>\n",
       "      <td>0.003590</td>\n",
       "      <td>0.370870</td>\n",
       "      <td>0.002877</td>\n",
       "    </tr>\n",
       "    <tr>\n",
       "      <th>151836</th>\n",
       "      <td>0.015906</td>\n",
       "      <td>0.070941</td>\n",
       "      <td>0.011591</td>\n",
       "      <td>0.009523</td>\n",
       "      <td>0.370870</td>\n",
       "      <td>0.010076</td>\n",
       "    </tr>\n",
       "    <tr>\n",
       "      <th>151838</th>\n",
       "      <td>0.127256</td>\n",
       "      <td>0.221995</td>\n",
       "      <td>0.179170</td>\n",
       "      <td>0.179191</td>\n",
       "      <td>0.414262</td>\n",
       "      <td>0.186941</td>\n",
       "    </tr>\n",
       "  </tbody>\n",
       "</table>\n",
       "<p>76020 rows × 6 columns</p>\n",
       "</div>"
      ],
      "text/plain": [
       "        LogModel  XGBoost1  XGBoost2  RandomForest  XGBoost3  XGBoostR1\n",
       "ID                                                                     \n",
       "1       0.069900  0.042096  0.042904      0.050267  0.379503   0.031894\n",
       "3       0.009583  0.209589  0.027452      0.026152  0.374895   0.015324\n",
       "4       0.015394  0.042096  0.003747      0.002548  0.370870   0.002336\n",
       "8       0.029563  0.207767  0.038705      0.032987  0.377370   0.022475\n",
       "10      0.005070  0.223680  0.007794      0.005741  0.373831   0.007099\n",
       "13      0.062640  0.042096  0.017607      0.018644  0.374678   0.014159\n",
       "14      0.015093  0.209574  0.022930      0.034746  0.377427   0.020323\n",
       "18      0.012761  0.145536  0.015315      0.018049  0.373503   0.013049\n",
       "20      0.127252  0.220539  0.176396      0.179191  0.414262   0.185466\n",
       "23      0.009585  0.070941  0.010256      0.014871  0.370870   0.010219\n",
       "25      0.065669  0.225907  0.017865      0.008964  0.373741   0.017197\n",
       "26      0.071470  0.145536  0.047193      0.059539  0.376113   0.045884\n",
       "29      0.037096  0.227224  0.033957      0.034761  0.377620   0.032598\n",
       "31      0.005471  0.226015  0.005292      0.003648  0.373380   0.003113\n",
       "32      0.029758  0.271288  0.023140      0.009477  0.373954   0.022632\n",
       "34      0.018190  0.213762  0.036034      0.038164  0.378006   0.034396\n",
       "36      0.119263  0.218510  0.179170      0.179191  0.408115   0.155133\n",
       "39      0.015144  0.225736  0.010525      0.009606  0.374062   0.006842\n",
       "42      0.004038  0.118750  0.008729      0.012497  0.373844   0.006073\n",
       "43      0.015583  0.200109  0.022615      0.023223  0.378006   0.021027\n",
       "45      0.065353  0.042096  0.020303      0.015372  0.374678   0.017319\n",
       "49      0.016263  0.209574  0.030324      0.037875  0.377427   0.031652\n",
       "51      0.006150  0.208539  0.024195      0.049548  0.379493   0.095614\n",
       "54      0.043234  0.227224  0.043306      0.038588  0.381803   0.040741\n",
       "56      0.111708  0.218404  0.179170      0.179191  0.414131   0.181403\n",
       "60      0.227808  0.237771  0.051555      0.013143  0.375001   0.020643\n",
       "61      0.062883  0.042096  0.020094      0.018644  0.374678   0.014354\n",
       "66      0.072182  0.070941  0.048131      0.052679  0.377413   0.054098\n",
       "68      0.017240  0.058789  0.009049      0.008958  0.370870   0.007906\n",
       "74      0.015328  0.042096  0.003874      0.000043  0.371183   0.003957\n",
       "...          ...       ...       ...           ...       ...        ...\n",
       "151793  0.008955  0.241250  0.069097      0.044924  0.376031   0.015171\n",
       "151794  0.017528  0.145536  0.015327      0.013258  0.373760   0.011302\n",
       "151795  0.013386  0.058789  0.007030      0.008297  0.370870   0.005453\n",
       "151796  0.057650  0.042096  0.014723      0.008341  0.374202   0.011861\n",
       "151797  0.035308  0.042096  0.009675      0.003397  0.377448   0.006151\n",
       "151798  0.017170  0.058789  0.007901      0.007445  0.370870   0.005453\n",
       "151799  0.015967  0.213762  0.036034      0.040079  0.378640   0.037386\n",
       "151800  0.013070  0.060688  0.003701      0.006162  0.371174   0.002527\n",
       "151801  0.268921  0.193499  0.182978      0.200357  0.419636   0.189016\n",
       "151802  0.039414  0.240165  0.013777      0.014444  0.373619   0.011721\n",
       "151804  0.093218  0.172068  0.029098      0.039246  0.377632   0.040719\n",
       "151805  0.013974  0.060688  0.003890      0.006500  0.371174   0.002626\n",
       "151806  0.002328  0.215004  0.006879      0.007313  0.373441   0.013268\n",
       "151807  0.013776  0.042096  0.005855      0.002602  0.371499   0.005409\n",
       "151808  0.002399  0.228094  0.007514      0.006906  0.373593   0.004295\n",
       "151809  0.024319  0.216517  0.064300      0.049407  0.381804   0.059918\n",
       "151810  0.052607  0.238428  0.060086      0.039124  0.375963   0.114783\n",
       "151811  0.306476  0.222721  0.288846      0.186247  0.424700   0.307839\n",
       "151813  0.015159  0.043480  0.002301      0.000318  0.370859   0.001468\n",
       "151815  0.017364  0.191242  0.057550      0.114680  0.387603   0.040147\n",
       "151816  0.056326  0.070941  0.014658      0.012106  0.374949   0.014575\n",
       "151818  0.113555  0.292962  0.138235      0.125856  0.388265   0.062267\n",
       "151820  0.046206  0.144274  0.088012      0.102332  0.383572   0.141356\n",
       "151821  0.027660  0.208539  0.070996      0.058294  0.379737   0.052490\n",
       "151825  0.057664  0.244746  0.032080      0.019675  0.377252   0.020390\n",
       "151829  0.152427  0.221995  0.223266      0.217962  0.421912   0.242191\n",
       "151830  0.011825  0.223680  0.012659      0.006570  0.373286   0.008685\n",
       "151835  0.019280  0.042096  0.005766      0.003590  0.370870   0.002877\n",
       "151836  0.015906  0.070941  0.011591      0.009523  0.370870   0.010076\n",
       "151838  0.127256  0.221995  0.179170      0.179191  0.414262   0.186941\n",
       "\n",
       "[76020 rows x 6 columns]"
      ]
     },
     "execution_count": 35,
     "metadata": {},
     "output_type": "execute_result"
    }
   ],
   "source": [
    "stage2_train"
   ]
  },
  {
   "cell_type": "code",
   "execution_count": 36,
   "metadata": {
    "collapsed": true
   },
   "outputs": [],
   "source": [
    "stage2_X = stage2_train.ix[:, \"LogModel\": \"XGBoostR1\"].values\n",
    "stage2_X_train, stage2_X_eval, y_train, y_eval = train_test_split(stage2_X, y, test_size=0.2)"
   ]
  },
  {
   "cell_type": "code",
   "execution_count": 37,
   "metadata": {
    "collapsed": true
   },
   "outputs": [],
   "source": [
    "stage2_test.to_csv(\"stage2_test.csv\")\n",
    "stage2_train.to_csv(\"stage2_train.csv\")"
   ]
  },
  {
   "cell_type": "code",
   "execution_count": 38,
   "metadata": {
    "collapsed": false
   },
   "outputs": [
    {
     "data": {
      "text/plain": [
       "XGBClassifier(base_score=0.5, colsample_bylevel=1, colsample_bytree=0.8,\n",
       "       gamma=0, learning_rate=0.01, max_delta_step=0, max_depth=5,\n",
       "       min_child_weight=5, missing=None, n_estimators=100, nthread=4,\n",
       "       objective='binary:logistic', reg_alpha=0, reg_lambda=1,\n",
       "       scale_pos_weight=1, seed=1, silent=True, subsample=0.8)"
      ]
     },
     "execution_count": 38,
     "metadata": {},
     "output_type": "execute_result"
    }
   ],
   "source": [
    "x = xgb.XGBClassifier(max_depth=5, n_estimators=100, learning_rate=0.01, nthread=4, \n",
    "                        subsample=0.8, colsample_bytree=0.8, min_child_weight=5, seed=1)\n",
    "\n",
    "x.fit(stage2_X, y, early_stopping_rounds=20, eval_metric=\"auc\", eval_set=[(stage2_X_eval, y_eval)], verbose=0)"
   ]
  },
  {
   "cell_type": "code",
   "execution_count": 39,
   "metadata": {
    "collapsed": false
   },
   "outputs": [
    {
     "name": "stdout",
     "output_type": "stream",
     "text": [
      "[ 0.88970113  0.88199417  0.89370949  0.89959846  0.89780267]\n",
      "AUC score 0.892538924705\n"
     ]
    }
   ],
   "source": [
    "s = cross_val_score(x, stage2_X, y, scoring=\"roc_auc\", cv=5) \n",
    "print(s)\n",
    "print( \"AUC score\", gmean(s) )"
   ]
  },
  {
   "cell_type": "code",
   "execution_count": 49,
   "metadata": {
    "collapsed": false
   },
   "outputs": [
    {
     "data": {
      "text/plain": [
       "<matplotlib.axes._subplots.AxesSubplot at 0x7f0df67c57b8>"
      ]
     },
     "execution_count": 49,
     "metadata": {},
     "output_type": "execute_result"
    },
    {
     "data": {
      "image/png": "[encoded data removed]",
      "text/plain": [
       "<matplotlib.figure.Figure at 0x7f0e04027d30>"
      ]
     },
     "metadata": {},
     "output_type": "display_data"
    }
   ],
   "source": [
    "pd.DataFrame(x.feature_importances_, index=stage2_train.columns).plot(kind=\"bar\")"
   ]
  },
  {
   "cell_type": "code",
   "execution_count": 52,
   "metadata": {
    "collapsed": false
   },
   "outputs": [],
   "source": [
    "stage2_X_test = stage2_test.ix[:, \"LogModel\": \"XGBoostR1\"].values\n",
    "y_pred = x.predict_proba(stage2_X_test)[:,1]\n",
    "submission = pd.DataFrame(index=test.index)\n",
    "submission[\"TARGET\"] = y_pred\n",
    "submission.to_csv(\"stack.csv\")"
   ]
  }
 ],
 "metadata": {
  "kernelspec": {
   "display_name": "Python 3",
   "language": "python",
   "name": "python3"
  },
  "language_info": {
   "codemirror_mode": {
    "name": "ipython",
    "version": 3
   },
   "file_extension": ".py",
   "mimetype": "text/x-python",
   "name": "python",
   "nbconvert_exporter": "python",
   "pygments_lexer": "ipython3",
   "version": "3.5.1+"
  }
 },
 "nbformat": 4,
 "nbformat_minor": 0
}
