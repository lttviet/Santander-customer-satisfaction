{
 "cells": [
  {
   "cell_type": "code",
   "execution_count": 2,
   "metadata": {
    "collapsed": true
   },
   "outputs": [],
   "source": [
    "import numpy as np\n",
    "import pandas as pd\n",
    "from scipy.stats import gmean"
   ]
  },
  {
   "cell_type": "code",
   "execution_count": 11,
   "metadata": {
    "collapsed": false
   },
   "outputs": [],
   "source": [
    "df1 = pd.read_csv(\"1.csv\", header=0, index_col=\"ID\")\n",
    "df2 = pd.read_csv(\"2.csv\", header=0, index_col=\"ID\")\n",
    "df3 = pd.read_csv(\"3.csv\", header=0, index_col=\"ID\")\n",
    "#df4 = pd.read_csv(\"test_logmodel.csv\", header=0, index_col=\"ID\")\n",
    "#df5 = pd.read_csv(\"test_rfc.csv\", header=0, index_col=\"ID\")\n",
    "#df6 = pd.read_csv(\"test_xgbc.csv\", header=0, index_col=\"ID\")\n",
    "df7 = pd.read_csv(\"test_xgbc2.csv\", header=0, index_col=\"ID\")"
   ]
  },
  {
   "cell_type": "code",
   "execution_count": 12,
   "metadata": {
    "collapsed": false
   },
   "outputs": [],
   "source": [
    "df = df1.rename(columns={\"TARGET\":\"TARGET1\"})\n",
    "df[\"TARGET2\"] = df2\n",
    "df[\"TARGET3\"] = df3\n",
    "#df[\"TARGET4\"] = df4\n",
    "#df[\"TARGET5\"] = df5\n",
    "#df[\"TARGET6\"] = df6\n",
    "df[\"TARGET7\"] = df7"
   ]
  },
  {
   "cell_type": "code",
   "execution_count": 13,
   "metadata": {
    "collapsed": false
   },
   "outputs": [],
   "source": [
    "geo_mean = pd.DataFrame(gmean(df, axis=1), index=df.index)"
   ]
  },
  {
   "cell_type": "code",
   "execution_count": 14,
   "metadata": {
    "collapsed": false
   },
   "outputs": [],
   "source": [
    "submission = pd.DataFrame(index=df.index)\n",
    "submission[\"TARGET\"] = geo_mean[0]\n",
    "submission.to_csv(\"geo_mean.csv\")"
   ]
  },
  {
   "cell_type": "code",
   "execution_count": null,
   "metadata": {
    "collapsed": true
   },
   "outputs": [],
   "source": []
  }
 ],
 "metadata": {
  "kernelspec": {
   "display_name": "Python 3",
   "language": "python",
   "name": "python3"
  },
  "language_info": {
   "codemirror_mode": {
    "name": "ipython",
    "version": 3
   },
   "file_extension": ".py",
   "mimetype": "text/x-python",
   "name": "python",
   "nbconvert_exporter": "python",
   "pygments_lexer": "ipython3",
   "version": "3.5.1+"
  }
 },
 "nbformat": 4,
 "nbformat_minor": 0
}
